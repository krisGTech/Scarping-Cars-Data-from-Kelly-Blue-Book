{
 "cells": [
  {
   "cell_type": "markdown",
   "metadata": {},
   "source": [
    "# Scraping  Information about Cars from Kelly Blue Book. "
   ]
  },
  {
   "cell_type": "code",
   "execution_count": 1,
   "metadata": {},
   "outputs": [],
   "source": [
    "import requests\n",
    "from requests import get\n",
    "from bs4 import BeautifulSoup\n",
    "import pandas as pd\n",
    "import numpy as np"
   ]
  },
  {
   "cell_type": "code",
   "execution_count": 2,
   "metadata": {},
   "outputs": [
    {
     "name": "stdout",
     "output_type": "stream",
     "text": [
      "<Response [200]>\n"
     ]
    }
   ],
   "source": [
    "url  = 'https://www.kbb.com/car-finder/2/?vehicletypes=luxury&morefilters=topratedexpert'\n",
    "r = requests.get(url)\n",
    "print(r) "
   ]
  },
  {
   "cell_type": "code",
   "execution_count": 3,
   "metadata": {},
   "outputs": [],
   "source": [
    "soup = BeautifulSoup(r.content,'lxml')\n",
    "#print(soup.prettify())"
   ]
  },
  {
   "cell_type": "code",
   "execution_count": 4,
   "metadata": {},
   "outputs": [],
   "source": [
    "car_div = soup.find_all('a',class_='css-y4ixr8 e5qxycd0')"
   ]
  },
  {
   "cell_type": "code",
   "execution_count": null,
   "metadata": {},
   "outputs": [],
   "source": [
    "#car_div"
   ]
  },
  {
   "cell_type": "code",
   "execution_count": 5,
   "metadata": {},
   "outputs": [],
   "source": [
    "name = []\n",
    "startingPricce=[]\n",
    "combFule = []\n",
    "expertRating = []\n",
    "cusmtRating = []"
   ]
  },
  {
   "cell_type": "code",
   "execution_count": 6,
   "metadata": {},
   "outputs": [],
   "source": [
    "for container in car_div:\n",
    "    cname = container.h2.text \n",
    "    name.append(cname)\n",
    "    \n",
    "    price = container.h3.text\n",
    "    startingPricce.append(price)\n",
    "\n",
    "    fl = container.find_all('div',class_='css-1oonbm0 eytv4cm0')\n",
    "    fuel = fl[1].text\n",
    "    combFule.append(fuel)\n",
    "    \n",
    "    expRating = container.find_all('div',class_='css-x9skgx-NumericRating e149jidm1')\n",
    "    expRat = expRating[0].text\n",
    "    expertRating.append(expRat)\n",
    "    \n",
    "    custRating = expRating[1].text\n",
    "    cusmtRating.append(custRating)\n",
    "   "
   ]
  },
  {
   "cell_type": "code",
   "execution_count": 7,
   "metadata": {},
   "outputs": [],
   "source": [
    "df_cars = pd.DataFrame({'Car_Name':name,\n",
    "                        'Starting_Price_USD':startingPricce,\n",
    "                        'MPG_Combined_fuel_economy':combFule,\n",
    "                        'Expert_Rating':expertRating,\n",
    "                        'Customer_Rating':cusmtRating})"
   ]
  },
  {
   "cell_type": "code",
   "execution_count": 9,
   "metadata": {},
   "outputs": [
    {
     "data": {
      "text/html": [
       "<div>\n",
       "<style scoped>\n",
       "    .dataframe tbody tr th:only-of-type {\n",
       "        vertical-align: middle;\n",
       "    }\n",
       "\n",
       "    .dataframe tbody tr th {\n",
       "        vertical-align: top;\n",
       "    }\n",
       "\n",
       "    .dataframe thead th {\n",
       "        text-align: right;\n",
       "    }\n",
       "</style>\n",
       "<table border=\"1\" class=\"dataframe\">\n",
       "  <thead>\n",
       "    <tr style=\"text-align: right;\">\n",
       "      <th></th>\n",
       "      <th>Car_Name</th>\n",
       "      <th>Starting_Price_USD</th>\n",
       "      <th>MPG_Combined_fuel_economy</th>\n",
       "      <th>Expert_Rating</th>\n",
       "      <th>Customer_Rating</th>\n",
       "    </tr>\n",
       "  </thead>\n",
       "  <tbody>\n",
       "    <tr>\n",
       "      <th>0</th>\n",
       "      <td>Certified 2019 Audi Q3 SUV</td>\n",
       "      <td>$29,617</td>\n",
       "      <td>Combined Fuel Economy22 MPG</td>\n",
       "      <td>4.8</td>\n",
       "      <td>3.6</td>\n",
       "    </tr>\n",
       "    <tr>\n",
       "      <th>1</th>\n",
       "      <td>Certified 2018 Audi Q5 SUV</td>\n",
       "      <td>$30,313</td>\n",
       "      <td>Combined Fuel Economy25 MPG</td>\n",
       "      <td>4.8</td>\n",
       "      <td>4.8</td>\n",
       "    </tr>\n",
       "    <tr>\n",
       "      <th>2</th>\n",
       "      <td>Certified 2018 Audi A5 Coupe</td>\n",
       "      <td>$30,856</td>\n",
       "      <td>Combined Fuel Economy27 MPG</td>\n",
       "      <td>4.8</td>\n",
       "      <td>4.5</td>\n",
       "    </tr>\n",
       "    <tr>\n",
       "      <th>3</th>\n",
       "      <td>Certified 2017 Audi Q7 SUV</td>\n",
       "      <td>$32,894</td>\n",
       "      <td>Combined Fuel Economy22 MPG</td>\n",
       "      <td>4.8</td>\n",
       "      <td>4.5</td>\n",
       "    </tr>\n",
       "    <tr>\n",
       "      <th>4</th>\n",
       "      <td>Certified 2019 Audi A5 Sedan</td>\n",
       "      <td>$34,313</td>\n",
       "      <td>Combined Fuel Economy27 MPG</td>\n",
       "      <td>4.8</td>\n",
       "      <td>4.5</td>\n",
       "    </tr>\n",
       "    <tr>\n",
       "      <th>5</th>\n",
       "      <td>Certified 2019 Lexus ES Sedan</td>\n",
       "      <td>$36,205</td>\n",
       "      <td>Combined Fuel Economy26 MPG</td>\n",
       "      <td>4.8</td>\n",
       "      <td>3.6</td>\n",
       "    </tr>\n",
       "    <tr>\n",
       "      <th>6</th>\n",
       "      <td>Certified 2020 Lexus ES Sedan</td>\n",
       "      <td>$39,256</td>\n",
       "      <td>Combined Fuel Economy26 MPG</td>\n",
       "      <td>4.8</td>\n",
       "      <td>3.6</td>\n",
       "    </tr>\n",
       "    <tr>\n",
       "      <th>7</th>\n",
       "      <td>Certified 2018 Audi S5 Coupe</td>\n",
       "      <td>$43,483</td>\n",
       "      <td>Combined Fuel Economy24 MPG</td>\n",
       "      <td>4.8</td>\n",
       "      <td>5</td>\n",
       "    </tr>\n",
       "    <tr>\n",
       "      <th>8</th>\n",
       "      <td>Certified 2018 Audi SQ5 SUV</td>\n",
       "      <td>$43,740</td>\n",
       "      <td>Combined Fuel Economy21 MPG</td>\n",
       "      <td>4.8</td>\n",
       "      <td>4.8</td>\n",
       "    </tr>\n",
       "    <tr>\n",
       "      <th>9</th>\n",
       "      <td>Certified 2017 Mercedes‑Benz Mercedes‑AMG E‑Cl...</td>\n",
       "      <td>$48,129</td>\n",
       "      <td>Combined Fuel Economy21 MPG</td>\n",
       "      <td>4.8</td>\n",
       "      <td>4.2</td>\n",
       "    </tr>\n",
       "  </tbody>\n",
       "</table>\n",
       "</div>"
      ],
      "text/plain": [
       "                                            Car_Name Starting_Price_USD  \\\n",
       "0                         Certified 2019 Audi Q3 SUV            $29,617   \n",
       "1                         Certified 2018 Audi Q5 SUV            $30,313   \n",
       "2                       Certified 2018 Audi A5 Coupe            $30,856   \n",
       "3                         Certified 2017 Audi Q7 SUV            $32,894   \n",
       "4                       Certified 2019 Audi A5 Sedan            $34,313   \n",
       "5                      Certified 2019 Lexus ES Sedan            $36,205   \n",
       "6                      Certified 2020 Lexus ES Sedan            $39,256   \n",
       "7                       Certified 2018 Audi S5 Coupe            $43,483   \n",
       "8                        Certified 2018 Audi SQ5 SUV            $43,740   \n",
       "9  Certified 2017 Mercedes‑Benz Mercedes‑AMG E‑Cl...            $48,129   \n",
       "\n",
       "     MPG_Combined_fuel_economy Expert_Rating Customer_Rating  \n",
       "0  Combined Fuel Economy22 MPG          4.8             3.6   \n",
       "1  Combined Fuel Economy25 MPG          4.8             4.8   \n",
       "2  Combined Fuel Economy27 MPG          4.8             4.5   \n",
       "3  Combined Fuel Economy22 MPG          4.8             4.5   \n",
       "4  Combined Fuel Economy27 MPG          4.8             4.5   \n",
       "5  Combined Fuel Economy26 MPG          4.8             3.6   \n",
       "6  Combined Fuel Economy26 MPG          4.8             3.6   \n",
       "7  Combined Fuel Economy24 MPG          4.8               5   \n",
       "8  Combined Fuel Economy21 MPG          4.8             4.8   \n",
       "9  Combined Fuel Economy21 MPG          4.8             4.2   "
      ]
     },
     "execution_count": 9,
     "metadata": {},
     "output_type": "execute_result"
    }
   ],
   "source": [
    "df_cars.head(10)"
   ]
  },
  {
   "cell_type": "markdown",
   "metadata": {},
   "source": [
    "#### Now lets clean up the data "
   ]
  },
  {
   "cell_type": "code",
   "execution_count": null,
   "metadata": {},
   "outputs": [],
   "source": [
    "df_cars.head(1)"
   ]
  },
  {
   "cell_type": "markdown",
   "metadata": {},
   "source": [
    "Remove Combined Fuel Economy that is before the number and also MPG "
   ]
  },
  {
   "cell_type": "code",
   "execution_count": 10,
   "metadata": {},
   "outputs": [],
   "source": [
    "df_cars['MPG_Combined_fuel_economy']=df_cars['MPG_Combined_fuel_economy'].str.extract('(\\d+)').astype(int)"
   ]
  },
  {
   "cell_type": "code",
   "execution_count": 11,
   "metadata": {},
   "outputs": [
    {
     "data": {
      "text/html": [
       "<div>\n",
       "<style scoped>\n",
       "    .dataframe tbody tr th:only-of-type {\n",
       "        vertical-align: middle;\n",
       "    }\n",
       "\n",
       "    .dataframe tbody tr th {\n",
       "        vertical-align: top;\n",
       "    }\n",
       "\n",
       "    .dataframe thead th {\n",
       "        text-align: right;\n",
       "    }\n",
       "</style>\n",
       "<table border=\"1\" class=\"dataframe\">\n",
       "  <thead>\n",
       "    <tr style=\"text-align: right;\">\n",
       "      <th></th>\n",
       "      <th>Car_Name</th>\n",
       "      <th>Starting_Price_USD</th>\n",
       "      <th>MPG_Combined_fuel_economy</th>\n",
       "      <th>Expert_Rating</th>\n",
       "      <th>Customer_Rating</th>\n",
       "    </tr>\n",
       "  </thead>\n",
       "  <tbody>\n",
       "    <tr>\n",
       "      <th>0</th>\n",
       "      <td>Certified 2019 Audi Q3 SUV</td>\n",
       "      <td>$29,617</td>\n",
       "      <td>22</td>\n",
       "      <td>4.8</td>\n",
       "      <td>3.6</td>\n",
       "    </tr>\n",
       "  </tbody>\n",
       "</table>\n",
       "</div>"
      ],
      "text/plain": [
       "                     Car_Name Starting_Price_USD  MPG_Combined_fuel_economy  \\\n",
       "0  Certified 2019 Audi Q3 SUV            $29,617                         22   \n",
       "\n",
       "  Expert_Rating Customer_Rating  \n",
       "0          4.8             3.6   "
      ]
     },
     "execution_count": 11,
     "metadata": {},
     "output_type": "execute_result"
    }
   ],
   "source": [
    "df_cars.head(1)"
   ]
  },
  {
   "cell_type": "markdown",
   "metadata": {},
   "source": [
    "Remove comma in the dollar amount "
   ]
  },
  {
   "cell_type": "code",
   "execution_count": 12,
   "metadata": {},
   "outputs": [],
   "source": [
    "df_cars['Starting_Price_USD'] = df_cars['Starting_Price_USD'].str.replace(',','')"
   ]
  },
  {
   "cell_type": "code",
   "execution_count": 13,
   "metadata": {},
   "outputs": [
    {
     "data": {
      "text/html": [
       "<div>\n",
       "<style scoped>\n",
       "    .dataframe tbody tr th:only-of-type {\n",
       "        vertical-align: middle;\n",
       "    }\n",
       "\n",
       "    .dataframe tbody tr th {\n",
       "        vertical-align: top;\n",
       "    }\n",
       "\n",
       "    .dataframe thead th {\n",
       "        text-align: right;\n",
       "    }\n",
       "</style>\n",
       "<table border=\"1\" class=\"dataframe\">\n",
       "  <thead>\n",
       "    <tr style=\"text-align: right;\">\n",
       "      <th></th>\n",
       "      <th>Car_Name</th>\n",
       "      <th>Starting_Price_USD</th>\n",
       "      <th>MPG_Combined_fuel_economy</th>\n",
       "      <th>Expert_Rating</th>\n",
       "      <th>Customer_Rating</th>\n",
       "    </tr>\n",
       "  </thead>\n",
       "  <tbody>\n",
       "    <tr>\n",
       "      <th>0</th>\n",
       "      <td>Certified 2019 Audi Q3 SUV</td>\n",
       "      <td>$29617</td>\n",
       "      <td>22</td>\n",
       "      <td>4.8</td>\n",
       "      <td>3.6</td>\n",
       "    </tr>\n",
       "  </tbody>\n",
       "</table>\n",
       "</div>"
      ],
      "text/plain": [
       "                     Car_Name Starting_Price_USD  MPG_Combined_fuel_economy  \\\n",
       "0  Certified 2019 Audi Q3 SUV             $29617                         22   \n",
       "\n",
       "  Expert_Rating Customer_Rating  \n",
       "0          4.8             3.6   "
      ]
     },
     "execution_count": 13,
     "metadata": {},
     "output_type": "execute_result"
    }
   ],
   "source": [
    "df_cars.head(1)"
   ]
  },
  {
   "cell_type": "markdown",
   "metadata": {},
   "source": [
    "Remove the Dollar sign that is before the dollar amount "
   ]
  },
  {
   "cell_type": "code",
   "execution_count": 14,
   "metadata": {},
   "outputs": [],
   "source": [
    "df_cars['Starting_Price_USD'] = df_cars['Starting_Price_USD'].str.extract('(\\d+)').astype(int)"
   ]
  },
  {
   "cell_type": "code",
   "execution_count": 16,
   "metadata": {},
   "outputs": [
    {
     "data": {
      "text/html": [
       "<div>\n",
       "<style scoped>\n",
       "    .dataframe tbody tr th:only-of-type {\n",
       "        vertical-align: middle;\n",
       "    }\n",
       "\n",
       "    .dataframe tbody tr th {\n",
       "        vertical-align: top;\n",
       "    }\n",
       "\n",
       "    .dataframe thead th {\n",
       "        text-align: right;\n",
       "    }\n",
       "</style>\n",
       "<table border=\"1\" class=\"dataframe\">\n",
       "  <thead>\n",
       "    <tr style=\"text-align: right;\">\n",
       "      <th></th>\n",
       "      <th>Car_Name</th>\n",
       "      <th>Starting_Price_USD</th>\n",
       "      <th>MPG_Combined_fuel_economy</th>\n",
       "      <th>Expert_Rating</th>\n",
       "      <th>Customer_Rating</th>\n",
       "    </tr>\n",
       "  </thead>\n",
       "  <tbody>\n",
       "    <tr>\n",
       "      <th>0</th>\n",
       "      <td>Certified 2019 Audi Q3 SUV</td>\n",
       "      <td>29617</td>\n",
       "      <td>22</td>\n",
       "      <td>4.8</td>\n",
       "      <td>3.6</td>\n",
       "    </tr>\n",
       "    <tr>\n",
       "      <th>1</th>\n",
       "      <td>Certified 2018 Audi Q5 SUV</td>\n",
       "      <td>30313</td>\n",
       "      <td>25</td>\n",
       "      <td>4.8</td>\n",
       "      <td>4.8</td>\n",
       "    </tr>\n",
       "    <tr>\n",
       "      <th>2</th>\n",
       "      <td>Certified 2018 Audi A5 Coupe</td>\n",
       "      <td>30856</td>\n",
       "      <td>27</td>\n",
       "      <td>4.8</td>\n",
       "      <td>4.5</td>\n",
       "    </tr>\n",
       "    <tr>\n",
       "      <th>3</th>\n",
       "      <td>Certified 2017 Audi Q7 SUV</td>\n",
       "      <td>32894</td>\n",
       "      <td>22</td>\n",
       "      <td>4.8</td>\n",
       "      <td>4.5</td>\n",
       "    </tr>\n",
       "    <tr>\n",
       "      <th>4</th>\n",
       "      <td>Certified 2019 Audi A5 Sedan</td>\n",
       "      <td>34313</td>\n",
       "      <td>27</td>\n",
       "      <td>4.8</td>\n",
       "      <td>4.5</td>\n",
       "    </tr>\n",
       "    <tr>\n",
       "      <th>5</th>\n",
       "      <td>Certified 2019 Lexus ES Sedan</td>\n",
       "      <td>36205</td>\n",
       "      <td>26</td>\n",
       "      <td>4.8</td>\n",
       "      <td>3.6</td>\n",
       "    </tr>\n",
       "    <tr>\n",
       "      <th>6</th>\n",
       "      <td>Certified 2020 Lexus ES Sedan</td>\n",
       "      <td>39256</td>\n",
       "      <td>26</td>\n",
       "      <td>4.8</td>\n",
       "      <td>3.6</td>\n",
       "    </tr>\n",
       "    <tr>\n",
       "      <th>7</th>\n",
       "      <td>Certified 2018 Audi S5 Coupe</td>\n",
       "      <td>43483</td>\n",
       "      <td>24</td>\n",
       "      <td>4.8</td>\n",
       "      <td>5</td>\n",
       "    </tr>\n",
       "    <tr>\n",
       "      <th>8</th>\n",
       "      <td>Certified 2018 Audi SQ5 SUV</td>\n",
       "      <td>43740</td>\n",
       "      <td>21</td>\n",
       "      <td>4.8</td>\n",
       "      <td>4.8</td>\n",
       "    </tr>\n",
       "    <tr>\n",
       "      <th>9</th>\n",
       "      <td>Certified 2017 Mercedes‑Benz Mercedes‑AMG E‑Cl...</td>\n",
       "      <td>48129</td>\n",
       "      <td>21</td>\n",
       "      <td>4.8</td>\n",
       "      <td>4.2</td>\n",
       "    </tr>\n",
       "  </tbody>\n",
       "</table>\n",
       "</div>"
      ],
      "text/plain": [
       "                                            Car_Name  Starting_Price_USD  \\\n",
       "0                         Certified 2019 Audi Q3 SUV               29617   \n",
       "1                         Certified 2018 Audi Q5 SUV               30313   \n",
       "2                       Certified 2018 Audi A5 Coupe               30856   \n",
       "3                         Certified 2017 Audi Q7 SUV               32894   \n",
       "4                       Certified 2019 Audi A5 Sedan               34313   \n",
       "5                      Certified 2019 Lexus ES Sedan               36205   \n",
       "6                      Certified 2020 Lexus ES Sedan               39256   \n",
       "7                       Certified 2018 Audi S5 Coupe               43483   \n",
       "8                        Certified 2018 Audi SQ5 SUV               43740   \n",
       "9  Certified 2017 Mercedes‑Benz Mercedes‑AMG E‑Cl...               48129   \n",
       "\n",
       "   MPG_Combined_fuel_economy Expert_Rating Customer_Rating  \n",
       "0                         22          4.8             3.6   \n",
       "1                         25          4.8             4.8   \n",
       "2                         27          4.8             4.5   \n",
       "3                         22          4.8             4.5   \n",
       "4                         27          4.8             4.5   \n",
       "5                         26          4.8             3.6   \n",
       "6                         26          4.8             3.6   \n",
       "7                         24          4.8               5   \n",
       "8                         21          4.8             4.8   \n",
       "9                         21          4.8             4.2   "
      ]
     },
     "execution_count": 16,
     "metadata": {},
     "output_type": "execute_result"
    }
   ],
   "source": [
    "df_cars.head(20)"
   ]
  },
  {
   "cell_type": "markdown",
   "metadata": {},
   "source": [
    "### That is just scrapping one page. Lets now scrape information from multiple pages. "
   ]
  },
  {
   "cell_type": "code",
   "execution_count": null,
   "metadata": {},
   "outputs": [],
   "source": [
    "from time import sleep\n",
    "from random import randint"
   ]
  },
  {
   "cell_type": "code",
   "execution_count": null,
   "metadata": {},
   "outputs": [],
   "source": [
    "\n",
    "\n",
    "name = []\n",
    "startingPricce=[]\n",
    "combFule = []\n",
    "expertRating = []\n",
    "cusmtRating = []\n",
    "\n",
    "kbb_pages = np.arange(1,61,10)\n",
    "\n",
    "for page in kbb_pages:\n",
    "    page = requests.get('https://www.kbb.com/car-finder/' + str(page) + '?vehicletypes=luxury&morefilters=topratedexpert')\n",
    "    soup = BeautifulSoup(page.content,'lxml')\n",
    "    car_div = soup.find_all('a',class_='css-y4ixr8 e5qxycd0')\n",
    "    \n",
    "    sleep(randint(2,10)) \n",
    "    \n",
    "    for container in car_div:\n",
    "        cname = container.h2.text \n",
    "        name.append(cname)\n",
    "\n",
    "        price = container.h3.text\n",
    "        startingPricce.append(price)\n",
    "\n",
    "        fl = container.find_all('div',class_='css-1oonbm0 eytv4cm0')\n",
    "        fuel = fl[1].text\n",
    "        combFule.append(fuel)\n",
    "\n",
    "        expRating = container.find_all('div',class_='css-x9skgx-NumericRating e149jidm1')\n",
    "        expRat = expRating[0].text\n",
    "        expertRating.append(expRat)\n",
    "\n",
    "        custRating = expRating[1].text\n",
    "        cusmtRating.append(custRating)\n",
    "        \n",
    "df_cars = pd.DataFrame({'Car_Name':name,\n",
    "                        'Starting_Price_USD':startingPricce,\n",
    "                        'MPG_Combined_fuel_economy':combFule,\n",
    "                        'Expert_Rating':expertRating})\n",
    "    \n",
    "\n",
    "    "
   ]
  },
  {
   "cell_type": "code",
   "execution_count": null,
   "metadata": {},
   "outputs": [],
   "source": [
    "df_cars.shape"
   ]
  },
  {
   "cell_type": "code",
   "execution_count": null,
   "metadata": {},
   "outputs": [],
   "source": [
    "df_cars.head(20)"
   ]
  },
  {
   "cell_type": "markdown",
   "metadata": {},
   "source": [
    "### Lets clean up the data now "
   ]
  },
  {
   "cell_type": "markdown",
   "metadata": {},
   "source": [
    "Remove $ and comma from price "
   ]
  },
  {
   "cell_type": "code",
   "execution_count": null,
   "metadata": {},
   "outputs": [],
   "source": [
    "df_cars['Starting_Price_USD'] = df_cars['Starting_Price_USD'].str.replace(',','')\n",
    "df_cars['Starting_Price_USD'] = df_cars['Starting_Price_USD'].str.extract('(\\d+)').astype(int)"
   ]
  },
  {
   "cell_type": "code",
   "execution_count": null,
   "metadata": {},
   "outputs": [],
   "source": [
    "df_cars['MPG_Combined_fuel_economy'] = df_cars['MPG_Combined_fuel_economy'].str.extract('(\\d+)').astype(int)"
   ]
  },
  {
   "cell_type": "code",
   "execution_count": null,
   "metadata": {},
   "outputs": [],
   "source": [
    "df_cars.head(40)"
   ]
  },
  {
   "cell_type": "code",
   "execution_count": null,
   "metadata": {},
   "outputs": [],
   "source": [
    "df_cars.info()"
   ]
  },
  {
   "cell_type": "code",
   "execution_count": null,
   "metadata": {},
   "outputs": [],
   "source": [
    "df_cars['Expert_Rating']=df_cars['Expert_Rating'].astype(float) "
   ]
  },
  {
   "cell_type": "code",
   "execution_count": null,
   "metadata": {},
   "outputs": [],
   "source": [
    "df_cars['Customer_Rating'] = df_cars['Customer_Rating'].astype(float)"
   ]
  },
  {
   "cell_type": "code",
   "execution_count": null,
   "metadata": {},
   "outputs": [],
   "source": [
    "df_cars.info() "
   ]
  },
  {
   "cell_type": "markdown",
   "metadata": {},
   "source": [
    "### Download the file to excel csv "
   ]
  },
  {
   "cell_type": "code",
   "execution_count": null,
   "metadata": {},
   "outputs": [],
   "source": [
    "df_cars.to_csv('LuxuryCars.csv')"
   ]
  },
  {
   "cell_type": "code",
   "execution_count": null,
   "metadata": {},
   "outputs": [],
   "source": []
  },
  {
   "cell_type": "code",
   "execution_count": null,
   "metadata": {},
   "outputs": [],
   "source": []
  },
  {
   "cell_type": "code",
   "execution_count": null,
   "metadata": {},
   "outputs": [],
   "source": []
  },
  {
   "cell_type": "markdown",
   "metadata": {},
   "source": []
  },
  {
   "cell_type": "code",
   "execution_count": null,
   "metadata": {},
   "outputs": [],
   "source": []
  }
 ],
 "metadata": {
  "kernelspec": {
   "display_name": "Python 3",
   "language": "python",
   "name": "python3"
  },
  "language_info": {
   "codemirror_mode": {
    "name": "ipython",
    "version": 3
   },
   "file_extension": ".py",
   "mimetype": "text/x-python",
   "name": "python",
   "nbconvert_exporter": "python",
   "pygments_lexer": "ipython3",
   "version": "3.7.3"
  }
 },
 "nbformat": 4,
 "nbformat_minor": 4
}
